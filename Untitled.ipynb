{
 "cells": [
  {
   "cell_type": "code",
   "execution_count": 3,
   "id": "878ca704",
   "metadata": {},
   "outputs": [],
   "source": [
    "from yolov5.detect import run"
   ]
  },
  {
   "cell_type": "code",
   "execution_count": 6,
   "id": "313c02a3",
   "metadata": {},
   "outputs": [
    {
     "name": "stderr",
     "output_type": "stream",
     "text": [
      "YOLOv5  2023-3-18 Python-3.9.12 torch-1.11.0 CUDA:0 (NVIDIA GeForce GTX 950M, 2048MiB)\n",
      "\n",
      "Fusing layers... \n",
      "YOLOv5s summary: 213 layers, 7225885 parameters, 0 gradients\n",
      "image 1/1 C:\\Users\\kkb99\\Desktop\\detection\\Lane-detection-with-OpenCV\\images\\road_detect(2).jpg: 640x416 24 cars, 4 buss, 3 trucks, 36.0ms\n",
      "Speed: 1.0ms pre-process, 36.0ms inference, 2.0ms NMS per image at shape (1, 3, 640, 640)\n",
      "Results saved to \u001b[1myolov5\\runs\\detect\\exp2\u001b[0m\n",
      "1 labels saved to yolov5\\runs\\detect\\exp2\\labels\n"
     ]
    }
   ],
   "source": [
    "run(source='Lane-detection-with-OpenCV/images/road_detect(2).jpg', save_txt=True)"
   ]
  },
  {
   "cell_type": "code",
   "execution_count": 7,
   "id": "cf3337e7",
   "metadata": {},
   "outputs": [
    {
     "name": "stderr",
     "output_type": "stream",
     "text": [
      "YOLOv5  2023-3-18 Python-3.9.12 torch-1.11.0 CUDA:0 (NVIDIA GeForce GTX 950M, 2048MiB)\n",
      "\n",
      "Fusing layers... \n",
      "YOLOv5s summary: 213 layers, 7225885 parameters, 0 gradients\n",
      "image 1/1 C:\\Users\\kkb99\\Desktop\\detection\\Lane-detection-with-OpenCV\\images\\trans_img.jpg: 640x416 16 cars, 99.5ms\n",
      "Speed: 2.0ms pre-process, 99.5ms inference, 6.0ms NMS per image at shape (1, 3, 640, 640)\n",
      "Results saved to \u001b[1myolov5\\runs\\detect\\exp3\u001b[0m\n",
      "1 labels saved to yolov5\\runs\\detect\\exp3\\labels\n"
     ]
    }
   ],
   "source": [
    "run(source='Lane-detection-with-OpenCV/images/trans_img.jpg', save_txt=True)"
   ]
  },
  {
   "cell_type": "code",
   "execution_count": null,
   "id": "7b6feb76",
   "metadata": {},
   "outputs": [],
   "source": []
  }
 ],
 "metadata": {
  "kernelspec": {
   "display_name": "Python 3 (ipykernel)",
   "language": "python",
   "name": "python3"
  },
  "language_info": {
   "codemirror_mode": {
    "name": "ipython",
    "version": 3
   },
   "file_extension": ".py",
   "mimetype": "text/x-python",
   "name": "python",
   "nbconvert_exporter": "python",
   "pygments_lexer": "ipython3",
   "version": "3.9.12"
  }
 },
 "nbformat": 4,
 "nbformat_minor": 5
}

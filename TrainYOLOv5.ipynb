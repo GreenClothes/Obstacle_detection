{
 "cells": [
  {
   "cell_type": "code",
   "execution_count": 1,
   "id": "878ca704",
   "metadata": {},
   "outputs": [
    {
     "name": "stdout",
     "output_type": "stream",
     "text": [
      "C:\\Users\\pc\\Desktop\\Obstacle_detection\\yolov5\n"
     ]
    }
   ],
   "source": [
    "%cd yolov5"
   ]
  },
  {
   "cell_type": "code",
   "execution_count": null,
   "id": "2bfe8d49",
   "metadata": {},
   "outputs": [],
   "source": [
    "%pip install -qr requirements.txt"
   ]
  },
  {
   "cell_type": "code",
   "execution_count": 2,
   "id": "cf3337e7",
   "metadata": {
    "scrolled": true
   },
   "outputs": [
    {
     "name": "stdout",
     "output_type": "stream",
     "text": [
      "30000\n"
     ]
    }
   ],
   "source": [
    "from glob import glob\n",
    "\n",
    "train_img_list = glob('C:/Users/pc/Desktop/dataset/DATA/train/images/*.png')\n",
    "print(len(train_img_list))"
   ]
  },
  {
   "cell_type": "code",
   "execution_count": 3,
   "id": "418b9895",
   "metadata": {},
   "outputs": [
    {
     "name": "stdout",
     "output_type": "stream",
     "text": [
      "C:/Users/pc/Desktop/dataset/DATA/train/images\\0101_light_clear_traffic_06000259.png\n"
     ]
    }
   ],
   "source": [
    "print(train_img_list[0])"
   ]
  },
  {
   "cell_type": "code",
   "execution_count": 4,
   "id": "1b589c22",
   "metadata": {},
   "outputs": [
    {
     "name": "stdout",
     "output_type": "stream",
     "text": [
      "6000\n"
     ]
    }
   ],
   "source": [
    "val_img_list = glob('C:/Users/pc/Desktop/dataset/DATA/val/images/*.png')\n",
    "print(len(val_img_list))"
   ]
  },
  {
   "cell_type": "code",
   "execution_count": 5,
   "id": "5e7ac8de",
   "metadata": {},
   "outputs": [
    {
     "name": "stdout",
     "output_type": "stream",
     "text": [
      "C:\\Users\\pc\\Desktop\\dataset\\DATA\n"
     ]
    }
   ],
   "source": [
    "%cd C:\\Users\\pc\\Desktop\\dataset\\DATA\\"
   ]
  },
  {
   "cell_type": "code",
   "execution_count": 8,
   "id": "53f79634",
   "metadata": {},
   "outputs": [],
   "source": [
    "with open('./train/train.txt', 'w') as f:\n",
    "    f.write('\\n'.join(train_img_list) + '\\n')\n",
    "with open('./val/val.txt', 'w') as f:\n",
    "    f.write('\\n'.join(val_img_list) + '\\n')"
   ]
  },
  {
   "cell_type": "code",
   "execution_count": 6,
   "id": "824fa7ac",
   "metadata": {},
   "outputs": [
    {
     "name": "stdout",
     "output_type": "stream",
     "text": [
      "C:\\Users\\pc\\Desktop\\Obstacle_detection\\yolov5\n"
     ]
    }
   ],
   "source": [
    "%cd C:\\Users\\pc\\Desktop\\Obstacle_detection\\yolov5"
   ]
  },
  {
   "cell_type": "code",
   "execution_count": 5,
   "id": "d0472994",
   "metadata": {},
   "outputs": [
    {
     "data": {
      "text/plain": [
       "True"
      ]
     },
     "execution_count": 5,
     "metadata": {},
     "output_type": "execute_result"
    }
   ],
   "source": [
    "import torch\n",
    "torch.cuda.is_available()"
   ]
  },
  {
   "cell_type": "code",
   "execution_count": 6,
   "id": "5ebddbde",
   "metadata": {},
   "outputs": [
    {
     "data": {
      "text/plain": [
       "'NVIDIA GeForce RTX 3060 Laptop GPU'"
      ]
     },
     "execution_count": 6,
     "metadata": {},
     "output_type": "execute_result"
    }
   ],
   "source": [
    "torch.cuda.get_device_name(0)"
   ]
  },
  {
   "cell_type": "code",
   "execution_count": 7,
   "id": "7036c8fe",
   "metadata": {},
   "outputs": [],
   "source": [
    "import os\n",
    "os.environ['KMP_DUPLICATE_LIB_OK']='True'"
   ]
  },
  {
   "cell_type": "code",
   "execution_count": null,
   "id": "7b6feb76",
   "metadata": {},
   "outputs": [],
   "source": [
    "!python train.py --img 640 --batch 16 --epoch 200 --data C:/Users/pc/Desktop/dataset/DATA/coco128.yaml --cfg C:/Users/pc/Desktop/dataset/yolov5s.yaml --weights yolov5s.pt --name roadline_result --cache --device 0"
   ]
  },
  {
   "cell_type": "code",
   "execution_count": null,
   "id": "3d93b60d",
   "metadata": {},
   "outputs": [],
   "source": [
    "%load_ext tensorboard\n",
    "%tensorboard --logdir runs"
   ]
  },
  {
   "cell_type": "code",
   "execution_count": null,
   "id": "72ff508a",
   "metadata": {},
   "outputs": [],
   "source": []
  }
 ],
 "metadata": {
  "kernelspec": {
   "display_name": "Python 3 (ipykernel)",
   "language": "python",
   "name": "python3"
  },
  "language_info": {
   "codemirror_mode": {
    "name": "ipython",
    "version": 3
   },
   "file_extension": ".py",
   "mimetype": "text/x-python",
   "name": "python",
   "nbconvert_exporter": "python",
   "pygments_lexer": "ipython3",
   "version": "3.10.9"
  }
 },
 "nbformat": 4,
 "nbformat_minor": 5
}

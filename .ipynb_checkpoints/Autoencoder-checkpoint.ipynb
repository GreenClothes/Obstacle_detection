{
<<<<<<< HEAD
 "cells": [
  {
   "cell_type": "code",
   "execution_count": null,
   "id": "62b0ca3c",
   "metadata": {},
   "outputs": [],
   "source": []
  }
 ],
 "metadata": {
  "kernelspec": {
   "display_name": "Python 3 (ipykernel)",
   "language": "python",
   "name": "python3"
  },
  "language_info": {
   "codemirror_mode": {
    "name": "ipython",
    "version": 3
   },
   "file_extension": ".py",
   "mimetype": "text/x-python",
   "name": "python",
   "nbconvert_exporter": "python",
   "pygments_lexer": "ipython3",
   "version": "3.9.12"
  }
 },
=======
 "cells": [],
 "metadata": {},
>>>>>>> 906997e61b467c517619e5603301cbaa08fc98bf
 "nbformat": 4,
 "nbformat_minor": 5
}
